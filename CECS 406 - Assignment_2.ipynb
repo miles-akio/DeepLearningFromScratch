{
 "cells": [
  {
   "cell_type": "code",
   "execution_count": 1,
   "metadata": {
    "id": "-8RXCN8X3sC1"
   },
   "outputs": [],
   "source": [
    "# Generating a toy dataset.\n",
    "# DO NOT MODIFY THIS PART\n",
    "\n",
    "import numpy as np\n",
    "import math\n",
    "import random as rand\n",
    "\n",
    "paras = list((rand.random() - 0.5 for _ in range(13)))\n",
    "\n",
    "def y_gen(x):\n",
    "    h_11 = math.tanh(paras[0] * x[0] + paras[1] * x[1] + paras[2])\n",
    "    h_12 = math.tanh(paras[3] * x[0] + paras[4] * x[1] + paras[5])\n",
    "    h_13 = math.tanh(paras[6] * x[0] + paras[7] * x[1] + paras[8])\n",
    "    h_21 = 1/(1 + np.exp(-(paras[9] * h_11 + paras[10] * h_12 + paras[11] * h_13 + paras[12])))\n",
    "    return h_21 + ((rand.random()-0.5)/100 if rand.random()>0.6 else 0)\n",
    "\n",
    "n = 300\n",
    "x = list(zip((rand.random() - 0.5 for _ in range(n)), (rand.random() - 0.5 for _ in range(n))))\n",
    "y = list(map(y_gen, x))\n",
    "y = [(i-min(y))/(max(y)-min(y)) for i in y]"
   ]
  },
  {
   "cell_type": "code",
   "execution_count": 2,
   "metadata": {
    "id": "iBv6iWTe3sC5"
   },
   "outputs": [],
   "source": [
    "# Spliting dataset into training, validation, and test.\n",
    "# DO NOT MODIFY THIS PART\n",
    "\n",
    "from sklearn.model_selection import train_test_split\n",
    "\n",
    "r = 0.25\n",
    "x_train, x_test, y_train, y_test = train_test_split(x, y, test_size=r)\n",
    "partial_x_train, x_val, partial_y_train, y_val = train_test_split(x_train, y_train, test_size=r)"
   ]
  },
  {
   "cell_type": "markdown",
   "metadata": {
    "id": "xcn8r_MF3sC6"
   },
   "source": [
    "*** Write down your answer here ***\n",
    "\n",
    "Formula for Layer 1 Weights:\n",
    "$$\n",
    "\\frac{\\partial L}{\\partial \\vec{W}^{\\,(1)}} = \\frac{1}{m} (A^{(2)} - Y) \\cdot \\tanh'(Z^{(1)}) \\cdot X^T\n",
    "$$\n",
    "\n",
    "Formula for Layer 2 Weights:\n",
    "$$\n",
    "\\frac{\\partial L}{\\partial \\vec{W}^{\\,(2)}} = \\frac{1}{m} (A^{(2)} - Y) \\cdot A^{(1)T}\n",
    "$$\n",
    "\n",
    "Formula for Layer 1 Biases:\n",
    "$$\n",
    "\\frac{\\partial L}{\\partial \\vec{b}^{\\,(1)}} = \\frac{1}{m} \\sum (A^{(2)} - Y) \\cdot \\tanh'(Z^{(1)})\n",
    "$$\n",
    "\n",
    "Formula for Layer 2 Biases:\n",
    "$$\n",
    "\\frac{\\partial L}{\\partial \\vec{b}^{\\,(2)}} = \\frac{1}{m} \\sum (A^{(2)} - Y)\n",
    "$$\n"
   ]
  },
  {
   "cell_type": "code",
   "execution_count": 13,
   "metadata": {
    "colab": {
     "base_uri": "https://localhost:8080/"
    },
    "id": "B1td-EhoIB3N",
    "outputId": "d9a35650-4a83-48d3-c145-cacee6d7ed5e",
    "scrolled": true
   },
   "outputs": [
    {
     "name": "stdout",
     "output_type": "stream",
     "text": [
      "x_train shape: (2, 168), y_train shape: (1, 168)\n",
      "x_val shape: (2, 57), y_val shape: (1, 57)\n",
      "x_test shape: (2, 75)\n",
      "Epoch 0, Loss: 0.019942485380351888, Val Loss: 0.022127225516137626\n",
      "Epoch 10, Loss: 0.01990759527593856, Val Loss: 0.022147205266691963\n",
      "Epoch 20, Loss: 0.019874407075449095, Val Loss: 0.022167525708141823\n",
      "Epoch 30, Loss: 0.019842837841394928, Val Loss: 0.022188137446445665\n",
      "Epoch 40, Loss: 0.019812808644679308, Val Loss: 0.02220899430471187\n",
      "Epoch 50, Loss: 0.01978424437507033, Val Loss: 0.022230053148757044\n"
     ]
    }
   ],
   "source": [
    "# Replace this part with your own code without using any deep learning library\n",
    "\n",
    "class CustomNeuralNetwork:\n",
    "    def __init__(self, input_size, hidden_size, output_size):\n",
    "        # Initialize weights and biases\n",
    "        self.W1 = np.random.randn(hidden_size, input_size) * 0.01  # Weights for layer 1\n",
    "        self.b1 = np.zeros((hidden_size, 1))                       # Biases for layer 1\n",
    "        self.W2 = np.random.randn(output_size, hidden_size) * 0.01  # Weights for layer 2\n",
    "        self.b2 = np.zeros((output_size, 1))                       # Biases for layer 2\n",
    "\n",
    "    # Sigmoid activation function\n",
    "    def sigmoid(self, z):\n",
    "        return 1 / (1 + np.exp(-z))\n",
    "\n",
    "    # Derivative of sigmoid function\n",
    "    def sigmoid_derivative(self, z):\n",
    "        return self.sigmoid(z) * (1 - self.sigmoid(z))\n",
    "\n",
    "    # Hyperbolic tangent (tanh) activation function\n",
    "    def tanh(self, z):\n",
    "        return np.tanh(z)\n",
    "\n",
    "    # Derivative of tanh function\n",
    "    def tanh_derivative(self, z):\n",
    "        return 1 - np.tanh(z) ** 2\n",
    "\n",
    "    # Forward pass\n",
    "    def forward(self, X):\n",
    "        self.Z1 = np.dot(self.W1, X) + self.b1  # Linear activation for layer 1\n",
    "        self.A1 = self.tanh(self.Z1)            # Non-linear activation using tanh\n",
    "        self.Z2 = np.dot(self.W2, self.A1) + self.b2  # Linear activation for layer 2\n",
    "        self.A2 = self.sigmoid(self.Z2)         # Non-linear activation using sigmoid\n",
    "        return self.A2\n",
    "\n",
    "    # Compute mean squared error loss\n",
    "    def compute_loss(self, Y, Y_hat):\n",
    "        return 0.5 * np.mean((Y - Y_hat) ** 2)\n",
    "\n",
    "    # Backward pass (backpropagation)\n",
    "    def backward(self, X, Y, Y_hat):\n",
    "        m = X.shape[1]\n",
    "\n",
    "        # Derivatives for layer 2\n",
    "        dZ2 = Y_hat - Y   # Loss derivative for output layer\n",
    "        dW2 = (1 / m) * np.dot(dZ2, self.A1.T)  # Weight gradient for layer 2\n",
    "        db2 = (1 / m) * np.sum(dZ2, axis=1, keepdims=True)  # Bias gradient for layer 2\n",
    "\n",
    "        # Derivatives for layer 1\n",
    "        dA1 = np.dot(self.W2.T, dZ2)\n",
    "        dZ1 = dA1 * self.tanh_derivative(self.Z1)  # Apply the derivative of tanh\n",
    "        dW1 = (1 / m) * np.dot(dZ1, X.T)  # Weight gradient for layer 1\n",
    "        db1 = (1 / m) * np.sum(dZ1, axis=1, keepdims=True)  # Bias gradient for layer 1\n",
    "\n",
    "        return dW1, db1, dW2, db2\n",
    "\n",
    "    # Update parameters using gradient descent\n",
    "    def update_parameters(self, dW1, db1, dW2, db2, learning_rate):\n",
    "        self.W1 -= learning_rate * dW1\n",
    "        self.b1 -= learning_rate * db1\n",
    "        self.W2 -= learning_rate * dW2\n",
    "        self.b2 -= learning_rate * db2\n",
    "\n",
    "    # Train the model for multiple epochs\n",
    "    def train(self, X_train, Y_train, X_val, Y_val, epochs, learning_rate):\n",
    "        loss_values = []\n",
    "        val_loss_values = []\n",
    "        \n",
    "        for epoch in range(epochs):\n",
    "            # Forward pass\n",
    "            Y_hat = self.forward(X_train)\n",
    "\n",
    "            # Compute loss\n",
    "            loss = self.compute_loss(Y_train, Y_hat)\n",
    "            loss_values.append(loss)\n",
    "\n",
    "            # Backward pass\n",
    "            dW1, db1, dW2, db2 = self.backward(X_train, Y_train, Y_hat)\n",
    "\n",
    "            # Update weights and biases\n",
    "            self.update_parameters(dW1, db1, dW2, db2, learning_rate)\n",
    "\n",
    "            # Validation loss\n",
    "            val_Y_hat = self.forward(X_val)\n",
    "            val_loss = self.compute_loss(Y_val, val_Y_hat)\n",
    "            val_loss_values.append(val_loss)\n",
    "\n",
    "            # Print loss for each epoch\n",
    "            if epoch % 10 == 0:\n",
    "                print(f'Epoch {epoch}, Loss: {loss}, Val Loss: {val_loss}')\n",
    "        \n",
    "        return loss_values, val_loss_values\n",
    "\n",
    "    # Predict function\n",
    "    def predict(self, X_test):\n",
    "        Y_hat = self.forward(X_test)\n",
    "        return Y_hat\n",
    "\n",
    "# Preparing the data\n",
    "x_train = np.array(partial_x_train).T\n",
    "y_train = np.array(partial_y_train).reshape(1, -1)  # Reshape to match dimensions\n",
    "x_val = np.array(x_val).T\n",
    "y_val = np.array(y_val).reshape(1, -1)\n",
    "x_test = np.array(x_test).T\n",
    "\n",
    "# Ensure the shapes of training and validation data are correct\n",
    "print(f\"x_train shape: {x_train.shape}, y_train shape: {y_train.shape}\")\n",
    "print(f\"x_val shape: {x_val.shape}, y_val shape: {y_val.shape}\")\n",
    "print(f\"x_test shape: {x_test.shape}\")\n",
    "\n",
    "# Initialize the custom neural network\n",
    "nn = CustomNeuralNetwork(input_size=2, hidden_size=3, output_size=1)\n",
    "\n",
    "# Train the model\n",
    "epochs = 60\n",
    "learning_rate = 0.01\n",
    "loss_values, val_loss_values = nn.train(x_train, y_train, x_val, y_val, epochs, learning_rate)\n",
    "\n",
    "# Create history_dict to store the loss values for compatibility with the visualization code\n",
    "history_dict = {\n",
    "    'loss': loss_values,\n",
    "    'val_loss': val_loss_values\n",
    "}\n",
    "\n",
    "# Predict for the test set\n",
    "y_pred = nn.predict(x_test)"
   ]
  },
  {
   "cell_type": "code",
   "execution_count": 14,
   "metadata": {
    "colab": {
     "base_uri": "https://localhost:8080/",
     "height": 944
    },
    "id": "8cp4pyPw3sDA",
    "outputId": "273ff68a-3fab-4878-f662-6fbb07311725",
    "scrolled": true
   },
   "outputs": [
    {
     "data": {
      "image/png": "[encoded data removed]",
      "text/plain": [
       "<Figure size 640x480 with 1 Axes>"
      ]
     },
     "metadata": {},
     "output_type": "display_data"
    },
    {
     "data": {
      "text/plain": [
       "<matplotlib.collections.PathCollection at 0x7fda959d5d00>"
      ]
     },
     "execution_count": 14,
     "metadata": {},
     "output_type": "execute_result"
    },
    {
     "data": {
      "image/png": "[encoded data removed]",
      "text/plain": [
       "<Figure size 640x480 with 1 Axes>"
      ]
     },
     "metadata": {},
     "output_type": "display_data"
    }
   ],
   "source": [
    "# Visualizing losses and prediction\n",
    "# DO NOT MODIFY THIS PART\n",
    "\n",
    "import matplotlib.pyplot as plt\n",
    "\n",
    "epochs = range(1, len(history_dict['loss']) + 1)\n",
    "\n",
    "plt.plot(epochs, loss_values, 'bo', label='Training loss')\n",
    "plt.plot(epochs, val_loss_values, 'b', label='Validation loss')\n",
    "plt.title('Training and validation loss')\n",
    "plt.xlabel('Epochs')\n",
    "plt.ylabel('Loss')\n",
    "plt.legend()\n",
    "plt.show()\n",
    "\n",
    "plt.title('Scatter Plot')\n",
    "plt.xlabel('True')\n",
    "plt.ylabel('Predict')\n",
    "plt.scatter(y_test, y_pred)"
   ]
  }
 ],
 "metadata": {
  "colab": {
   "provenance": []
  },
  "kernelspec": {
   "display_name": "Python 3 (ipykernel)",
   "language": "python",
   "name": "python3"
  },
  "language_info": {
   "codemirror_mode": {
    "name": "ipython",
    "version": 3
   },
   "file_extension": ".py",
   "mimetype": "text/x-python",
   "name": "python",
   "nbconvert_exporter": "python",
   "pygments_lexer": "ipython3",
   "version": "3.9.19"
  }
 },
 "nbformat": 4,
 "nbformat_minor": 4
}
